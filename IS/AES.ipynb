{
 "cells": [
  {
   "cell_type": "code",
   "execution_count": 7,
   "id": "d5941244",
   "metadata": {},
   "outputs": [
    {
     "name": "stdout",
     "output_type": "stream",
     "text": [
      "Defaulting to user installation because normal site-packages is not writeableNote: you may need to restart the kernel to use updated packages.\n",
      "\n",
      "Requirement already satisfied: pycryptodome in c:\\users\\prajw\\appdata\\roaming\\python\\python310\\site-packages (3.18.0)\n"
     ]
    }
   ],
   "source": [
    "pip install pycryptodome"
   ]
  },
  {
   "cell_type": "code",
   "execution_count": null,
   "id": "c41c256c",
   "metadata": {},
   "outputs": [],
   "source": []
  },
  {
   "cell_type": "code",
   "execution_count": 4,
   "id": "3b62dd2f",
   "metadata": {},
   "outputs": [
    {
     "name": "stdout",
     "output_type": "stream",
     "text": [
      "Enter the encryption key (16 bytes): 1236547899874563\n",
      "Enter the plaintext to encrypt: pqrs\n",
      "Ciphertext: b'\\x92\\t\\x8d9\\xd8\\xa7\\x82x\\x8c\\xce\\xb9L4\\x94\\xd2\\x18\\xa1@\\xee7+\\xb0\\xe4\\xe3\\xaa\\xca\\x93\\x0e\\r\\xb1\\x97\\xcb'\n",
      "Decrypted text: pqrs\n"
     ]
    }
   ],
   "source": [
    "from Crypto.Cipher import AES\n",
    "from Crypto.Util.Padding import pad, unpad\n",
    "from Crypto.Random import get_random_bytes\n",
    "\n",
    "# Encryption function\n",
    "def encrypt(key, plaintext):\n",
    "    cipher = AES.new(key, AES.MODE_CBC)\n",
    "    ciphertext = cipher.encrypt(pad(plaintext, AES.block_size))\n",
    "    return cipher.iv + ciphertext\n",
    "\n",
    "\n",
    "# Decryption function\n",
    "def decrypt(key, ciphertext):\n",
    "    iv = ciphertext[:AES.block_size]\n",
    "    cipher = AES.new(key, AES.MODE_CBC, iv)\n",
    "    plaintext = unpad(cipher.decrypt(ciphertext[AES.block_size:]), AES.block_size)\n",
    "    return plaintext\n",
    "\n",
    "# Get input from the user\n",
    "key = input(\"Enter the encryption key (16 bytes): \").encode()\n",
    "plaintext = input(\"Enter the plaintext to encrypt: \").encode()\n",
    "\n",
    "# Encryption\n",
    "ciphertext = encrypt(key, plaintext)\n",
    "print('Ciphertext:', ciphertext)\n",
    "\n",
    "# Decryption\n",
    "decrypted_text = decrypt(key, ciphertext)\n",
    "print('Decrypted text:', decrypted_text.decode())"
   ]
  },
  {
   "cell_type": "code",
   "execution_count": null,
   "id": "a6b38011",
   "metadata": {},
   "outputs": [],
   "source": []
  }
 ],
 "metadata": {
  "kernelspec": {
   "display_name": "Python 3 (ipykernel)",
   "language": "python",
   "name": "python3"
  },
  "language_info": {
   "codemirror_mode": {
    "name": "ipython",
    "version": 3
   },
   "file_extension": ".py",
   "mimetype": "text/x-python",
   "name": "python",
   "nbconvert_exporter": "python",
   "pygments_lexer": "ipython3",
   "version": "3.10.9"
  }
 },
 "nbformat": 4,
 "nbformat_minor": 5
}
