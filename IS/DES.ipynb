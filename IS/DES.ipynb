{
 "cells": [
  {
   "cell_type": "code",
   "execution_count": 1,
   "id": "77e49a32",
   "metadata": {},
   "outputs": [
    {
     "name": "stdout",
     "output_type": "stream",
     "text": [
      "Defaulting to user installation because normal site-packages is not writeable\n",
      "Requirement already satisfied: pycryptodome in c:\\users\\prajw\\appdata\\roaming\\python\\python310\\site-packages (3.18.0)\n",
      "Note: you may need to restart the kernel to use updated packages.\n"
     ]
    }
   ],
   "source": [
    "pip install pycryptodome"
   ]
  },
  {
   "cell_type": "code",
   "execution_count": 2,
   "id": "20c1ab6e",
   "metadata": {},
   "outputs": [
    {
     "name": "stdout",
     "output_type": "stream",
     "text": [
      "Enter the key (8 characters): 12563489\n",
      "Enter the plaintext: Prajwal\n",
      "Encrypted text: 0b627acd64750edf\n",
      "Decrypted text: Prajwal\n"
     ]
    }
   ],
   "source": [
    "from Crypto.Cipher import DES\n",
    "\n",
    "def pad_text(text):\n",
    "    padding_size = 8 - (len(text) % 8)\n",
    "    padding = chr(padding_size) * padding_size\n",
    "    return text + padding\n",
    "\n",
    "def des_encrypt(key, text):\n",
    "    cipher = DES.new(key.encode(), DES.MODE_ECB)\n",
    "    padded_text = pad_text(text)\n",
    "    encrypted_text = cipher.encrypt(padded_text.encode())\n",
    "    return encrypted_text\n",
    "\n",
    "def des_decrypt(key, encrypted_text):\n",
    "    cipher = DES.new(key.encode(), DES.MODE_ECB)\n",
    "    decrypted_text = cipher.decrypt(encrypted_text)\n",
    "    padding_size = decrypted_text[-1]\n",
    "    return decrypted_text[:-padding_size].decode()\n",
    "\n",
    "key = input(\"Enter the key (8 characters): \")\n",
    "plaintext = input(\"Enter the plaintext: \")\n",
    "\n",
    "encrypted = des_encrypt(key, plaintext)\n",
    "print(\"Encrypted text:\", encrypted.hex())\n",
    "\n",
    "decrypted = des_decrypt(key, encrypted)\n",
    "print(\"Decrypted text:\", decrypted)"
   ]
  },
  {
   "cell_type": "code",
   "execution_count": null,
   "id": "27e02a2d",
   "metadata": {},
   "outputs": [],
   "source": []
  }
 ],
 "metadata": {
  "kernelspec": {
   "display_name": "Python 3 (ipykernel)",
   "language": "python",
   "name": "python3"
  },
  "language_info": {
   "codemirror_mode": {
    "name": "ipython",
    "version": 3
   },
   "file_extension": ".py",
   "mimetype": "text/x-python",
   "name": "python",
   "nbconvert_exporter": "python",
   "pygments_lexer": "ipython3",
   "version": "3.10.9"
  }
 },
 "nbformat": 4,
 "nbformat_minor": 5
}
