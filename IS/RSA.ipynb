{
 "cells": [
  {
   "cell_type": "code",
   "execution_count": 1,
   "id": "e37287b5",
   "metadata": {},
   "outputs": [
    {
     "name": "stdout",
     "output_type": "stream",
     "text": [
      "Defaulting to user installation because normal site-packages is not writeable\n",
      "Requirement already satisfied: pycryptodome in c:\\users\\prajw\\appdata\\roaming\\python\\python310\\site-packages (3.18.0)\n",
      "Note: you may need to restart the kernel to use updated packages.\n"
     ]
    }
   ],
   "source": [
    "pip install pycryptodome"
   ]
  },
  {
   "cell_type": "code",
   "execution_count": 3,
   "id": "f08d0131",
   "metadata": {},
   "outputs": [
    {
     "name": "stdout",
     "output_type": "stream",
     "text": [
      " p :5\n",
      " q :6\n",
      "Public Key (e,n) : (20,30)\n",
      "Private Key (d,n) : (2,30)\n",
      "Enter you Message : Pqrs\n",
      "original string :  Pqrs\n",
      "Encrypted String :  b'gAAAAABkc8bfUZmncvLc4AxsS2qybXqXaCz-RiIbvJRMuuHUMsjWkLvgvZbmL1Wk8KcPwfSQXZjOt4G4cr2wx5N973oKOG10dg=='\n",
      "decrypted string :  Pqrs\n"
     ]
    }
   ],
   "source": [
    "import math\n",
    "import sys\n",
    "from cryptography.fernet import Fernet\n",
    "\n",
    "def GCD(a,b):\n",
    "    if (b==0):\n",
    "        return a\n",
    "    else:\n",
    "        return(b,a%b)\n",
    "    \n",
    "p=int(input(\" p :\"))\n",
    "q=int(input(\" q :\"))\n",
    "\n",
    "n=p*q\n",
    "\n",
    "e=2\n",
    "k=2\n",
    "\n",
    "phi=(p-1)*(q-1)\n",
    "\n",
    "while(e<phi):\n",
    "    if(GCD(e,phi)==1):\n",
    "        break\n",
    "    else:\n",
    "        e+=1\n",
    "    \n",
    "d=int(((k*phi)+1)/e)\n",
    "\n",
    "\n",
    "print(f\"Public Key (e,n) : ({e},{n})\")\n",
    "print(f\"Private Key (d,n) : ({d},{n})\")\n",
    "\n",
    "msg = input(\"Enter you Message : \")\n",
    "\n",
    "\n",
    "key = Fernet.generate_key()\n",
    "\n",
    "fernet = Fernet(key)\n",
    "\n",
    "encryptedMSG = fernet.encrypt(msg.encode())\n",
    "decryptedMSG = fernet.decrypt(encryptedMSG).decode()\n",
    "\n",
    "print(\"original string : \", msg)\n",
    "print(\"Encrypted String : \", encryptedMSG)\n",
    "print(\"decrypted string : \", decryptedMSG)"
   ]
  },
  {
   "cell_type": "code",
   "execution_count": null,
   "id": "4987daab",
   "metadata": {},
   "outputs": [],
   "source": []
  }
 ],
 "metadata": {
  "kernelspec": {
   "display_name": "Python 3 (ipykernel)",
   "language": "python",
   "name": "python3"
  },
  "language_info": {
   "codemirror_mode": {
    "name": "ipython",
    "version": 3
   },
   "file_extension": ".py",
   "mimetype": "text/x-python",
   "name": "python",
   "nbconvert_exporter": "python",
   "pygments_lexer": "ipython3",
   "version": "3.10.9"
  }
 },
 "nbformat": 4,
 "nbformat_minor": 5
}
