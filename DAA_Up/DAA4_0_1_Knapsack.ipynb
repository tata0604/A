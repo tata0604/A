{
 "cells": [
  {
   "cell_type": "code",
   "execution_count": 3,
   "id": "5fd71f40",
   "metadata": {},
   "outputs": [
    {
     "name": "stdout",
     "output_type": "stream",
     "text": [
      "Enter length : 4\n",
      "Enter weight : \n",
      "3\n",
      "4\n",
      "6\n",
      "5\n",
      "Enter Profit : \n",
      "2\n",
      "3\n",
      "1\n",
      "4\n",
      "\n",
      "[3, 4, 6, 5]\n",
      "[2, 3, 1, 4]\n",
      "Enter bag size : 8\n",
      "\n",
      "Maximum Profit:  6\n"
     ]
    }
   ],
   "source": [
    "def knapSack(W, wt, val, n):\n",
    "    dp = [0 for i in range(W+1)] # Making the dp array\n",
    "    for i in range(1, n+1): # taking first i elements\n",
    "        for w in range(W, 0, -1): # starting from back,so that we also have data of\n",
    "\n",
    "            # previous computation when taking i-1 items\n",
    "            if wt[i-1] <= w:\n",
    "                # finding the maximum value\n",
    "                dp[w] = max(dp[w], dp[w-wt[i-1]]+val[i-1])\n",
    "    return dp[W] # returning the maximum value of knapsack\n",
    "\n",
    "# Driver code\n",
    "# val = [2, 3, 1, 4]\n",
    "# wt = [3, 4, 6, 5]\n",
    "# wt cpacity = 8\n",
    "\n",
    "length = int(input(\"Enter length : \"))\n",
    "    \n",
    "wt = []\n",
    "val = []\n",
    "    \n",
    "no = 0\n",
    "    \n",
    "print(\"Enter weight : \")\n",
    "for i in range(length):\n",
    "    no = int(input())   \n",
    "    wt.append(no)\n",
    " \n",
    "print(\"Enter Profit : \")\n",
    "for i in range(length):\n",
    "    no = int(input())\n",
    "        \n",
    "    val.append(no)\n",
    "\n",
    "print()   \n",
    "print(wt)\n",
    "print(val)\n",
    "\n",
    "W = int(input(\"Enter bag size : \"))\n",
    "print()\n",
    "n = len(val)\n",
    "\n",
    "print(\"Maximum Profit: \",knapSack(W, wt, val, n))\n",
    "\n",
    "\n",
    "# time complexity : n * W  (W = capacity)"
   ]
  },
  {
   "cell_type": "code",
   "execution_count": null,
   "id": "0645c716",
   "metadata": {},
   "outputs": [],
   "source": []
  }
 ],
 "metadata": {
  "kernelspec": {
   "display_name": "Python 3 (ipykernel)",
   "language": "python",
   "name": "python3"
  },
  "language_info": {
   "codemirror_mode": {
    "name": "ipython",
    "version": 3
   },
   "file_extension": ".py",
   "mimetype": "text/x-python",
   "name": "python",
   "nbconvert_exporter": "python",
   "pygments_lexer": "ipython3",
   "version": "3.10.9"
  }
 },
 "nbformat": 4,
 "nbformat_minor": 5
}
