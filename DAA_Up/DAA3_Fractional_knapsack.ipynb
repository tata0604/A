{
 "cells": [
  {
   "cell_type": "code",
   "execution_count": 3,
   "id": "3459cce2",
   "metadata": {},
   "outputs": [
    {
     "name": "stdout",
     "output_type": "stream",
     "text": [
      "Enter length : 7\n",
      "Enter weight : \n",
      "1\n",
      "3\n",
      "5\n",
      "4\n",
      "1\n",
      "3\n",
      "2\n",
      "Enter Profit : \n",
      "5\n",
      "10\n",
      "15\n",
      "7\n",
      "8\n",
      "9\n",
      "4\n",
      "\n",
      "[1, 3, 5, 4, 1, 3, 2]\n",
      "[5, 10, 15, 7, 8, 9, 4]\n",
      "Enter capacity : 15\n",
      "\n",
      "Maximum value in Knapsack = 51\n"
     ]
    }
   ],
   "source": [
    "def fractional_knapsack():\n",
    "    #weights = [1,3,5,4,1,3,2]\n",
    "    #values = [5,10,15,7,8,9,4]\n",
    "    length = int(input(\"Enter length : \"))\n",
    "    \n",
    "    weights = []\n",
    "    values = []\n",
    "    \n",
    "    no = 0\n",
    "    \n",
    "    print(\"Enter weight : \")\n",
    "    for i in range(length):\n",
    "        no = int(input())\n",
    "        \n",
    "        weights.append(no)\n",
    " \n",
    "    print(\"Enter Profit : \")\n",
    "    for i in range(length):\n",
    "        no = int(input())\n",
    "        \n",
    "        values.append(no)\n",
    "    print()   \n",
    "    print(weights)\n",
    "    print(values)\n",
    "        \n",
    "    capacity = int(input(\"Enter capacity : \"))\n",
    "    res = 0\n",
    "\n",
    "    # Pair: [Weight, Value]\n",
    "    for pair in sorted(zip(weights, values), key=lambda x: x[1] / x[0], reverse=True):\n",
    "        if capacity <= 0:  # Capacity completed - Bag fully filled\n",
    "            break\n",
    "        if pair[0] > capacity:  # Current's weight with the highest value/weight ratio exceeds available capacity\n",
    "            res += int(capacity * (pair[1] / pair[0]))  # Completely fill the bag\n",
    "            capacity = 0\n",
    "        elif pair[0] <= capacity:  # Take the whole object\n",
    "            res += pair[1]\n",
    "            capacity -= pair[0]\n",
    "    \n",
    "    print()\n",
    "    print(\"Maximum value in Knapsack =\", res)\n",
    "    \n",
    "    # time complexity : n(log n)\n",
    "\n",
    "if __name__ == \"__main__\":\n",
    "    fractional_knapsack()"
   ]
  },
  {
   "cell_type": "code",
   "execution_count": null,
   "id": "2cfdd221",
   "metadata": {},
   "outputs": [],
   "source": []
  },
  {
   "cell_type": "code",
   "execution_count": null,
   "id": "cfef4ea6",
   "metadata": {},
   "outputs": [],
   "source": []
  }
 ],
 "metadata": {
  "kernelspec": {
   "display_name": "Python 3 (ipykernel)",
   "language": "python",
   "name": "python3"
  },
  "language_info": {
   "codemirror_mode": {
    "name": "ipython",
    "version": 3
   },
   "file_extension": ".py",
   "mimetype": "text/x-python",
   "name": "python",
   "nbconvert_exporter": "python",
   "pygments_lexer": "ipython3",
   "version": "3.10.9"
  }
 },
 "nbformat": 4,
 "nbformat_minor": 5
}
