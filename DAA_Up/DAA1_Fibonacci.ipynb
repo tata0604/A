{
 "cells": [
  {
   "cell_type": "code",
   "execution_count": 2,
   "id": "98266af3",
   "metadata": {},
   "outputs": [
    {
     "name": "stdout",
     "output_type": "stream",
     "text": [
      "Enter Length : 10\n",
      "recursive\n",
      "0\n",
      "1\n",
      "1\n",
      "2\n",
      "3\n",
      "5\n",
      "8\n",
      "13\n",
      "21\n",
      "34\n",
      "non-recursive\n",
      "0\n",
      "1\n",
      "1\n",
      "2\n",
      "3\n",
      "5\n",
      "8\n",
      "13\n",
      "21\n",
      "34\n"
     ]
    }
   ],
   "source": [
    "def recursive_fibonacci(n):\n",
    "    if n <= 1:\n",
    "        return n\n",
    "    else:\n",
    "        return recursive_fibonacci(n - 1) + recursive_fibonacci(n - 2)\n",
    "\n",
    "def non_recursive_fibonacci(n):\n",
    "    first = 0\n",
    "    second = 1\n",
    "    if n == 0:\n",
    "        return first\n",
    "    elif n == 1:\n",
    "        return second\n",
    "    else:\n",
    "        print(first)\n",
    "        print(second)\n",
    "        for _ in range(2, n):\n",
    "            third = first + second\n",
    "            print(third)\n",
    "            first = second\n",
    "            second = third\n",
    "\n",
    "if __name__ == \"__main__\":\n",
    "    n = int(input(\"Enter Length : \"))\n",
    "    print(\"recursive\")\n",
    "    for i in range(n):\n",
    "        print(recursive_fibonacci(i))\n",
    "    \n",
    "    print(\"non-recursive\")\n",
    "    non_recursive_fibonacci(n)"
   ]
  },
  {
   "cell_type": "code",
   "execution_count": null,
   "id": "6bc5da5a",
   "metadata": {},
   "outputs": [],
   "source": []
  }
 ],
 "metadata": {
  "kernelspec": {
   "display_name": "Python 3 (ipykernel)",
   "language": "python",
   "name": "python3"
  },
  "language_info": {
   "codemirror_mode": {
    "name": "ipython",
    "version": 3
   },
   "file_extension": ".py",
   "mimetype": "text/x-python",
   "name": "python",
   "nbconvert_exporter": "python",
   "pygments_lexer": "ipython3",
   "version": "3.10.9"
  }
 },
 "nbformat": 4,
 "nbformat_minor": 5
}
