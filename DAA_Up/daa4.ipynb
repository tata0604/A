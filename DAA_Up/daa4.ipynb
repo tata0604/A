{
 "cells": [
  {
   "cell_type": "code",
   "execution_count": null,
   "id": "119f5749",
   "metadata": {},
   "outputs": [],
   "source": [
    "def knapSack(W, wt, val, n):\n",
    " dp = [0 for i in range(W+1)] # Making the dp array\n",
    " for i in range(1, n+1): # taking first i elements\n",
    "        for w in range(W, 0, -1): # starting from back,so that we also have data of\n",
    "\n",
    "            # previous computation when taking i-1 items\n",
    "            if wt[i-1] <= w:\n",
    "                # finding the maximum value\n",
    "                dp[w] = max(dp[w], dp[w-wt[i-1]]+val[i-1])\n",
    " return dp[W] # returning the maximum value of knapsack\n",
    "# Driver code\n",
    "#val = [60, 100, 120]\n",
    "#wt = [10, 20, 30]\n",
    "length = int(input(\"Enter length : \"))\n",
    "    \n",
    "wt = []\n",
    "val = []\n",
    "    \n",
    "no = 0\n",
    "    \n",
    "print(\"Enter weight : \")\n",
    "for i in range(length):\n",
    "    no = int(input())   \n",
    "    wt.append(no)\n",
    " \n",
    "print(\"Enter Profit : \")\n",
    "for i in range(length):\n",
    "    no = int(input())\n",
    "        \n",
    "    val.append(no)\n",
    "\n",
    "print()   \n",
    "print(wt)\n",
    "print(val)\n",
    "\n",
    "W = int(input(\"Enter bag size : \"))\n",
    "n = len(val)\n",
    "print(knapSack(W, wt, val, n))"
   ]
  },
  {
   "cell_type": "code",
   "execution_count": null,
   "id": "0c53ce90",
   "metadata": {},
   "outputs": [],
   "source": []
  }
 ],
 "metadata": {
  "kernelspec": {
   "display_name": "Python 3 (ipykernel)",
   "language": "python",
   "name": "python3"
  },
  "language_info": {
   "codemirror_mode": {
    "name": "ipython",
    "version": 3
   },
   "file_extension": ".py",
   "mimetype": "text/x-python",
   "name": "python",
   "nbconvert_exporter": "python",
   "pygments_lexer": "ipython3",
   "version": "3.10.9"
  }
 },
 "nbformat": 4,
 "nbformat_minor": 5
}
